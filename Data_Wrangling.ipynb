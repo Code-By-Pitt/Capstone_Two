{
 "cells": [
  {
   "cell_type": "markdown",
   "id": "a444cf93",
   "metadata": {},
   "source": [
    "# IMPORTING DATA\n",
    "\n",
    "Begin with importing data using pandas read_csv function. For this, I parsed date on the \"Day\" column. I am unable to define the data types for each column as the data needs to be cleaned before the correct data type can be specified."
   ]
  },
  {
   "cell_type": "code",
   "execution_count": 2,
   "id": "ac3b3642",
   "metadata": {},
   "outputs": [],
   "source": [
    "import pandas as pd\n",
    "import numpy as np\n",
    "import matplotlib.pyplot as plt\n",
    "import seaborn as sns\n",
    "import os\n",
    "\n",
    "data = pd.read_csv(\"C:/Users/alexp/DATASCIENCE/GitHub/Captsone_Two_Data/Raw_Data/Raw_Data.csv\",parse_dates=['Day'])"
   ]
  },
  {
   "cell_type": "markdown",
   "id": "48d04802",
   "metadata": {},
   "source": [
    "## Initial Data Review\n",
    "\n",
    "Below I reviewed the shape of my data and checked the column names to ensure the ALL the data imported correctly."
   ]
  },
  {
   "cell_type": "code",
   "execution_count": 3,
   "id": "be98af3c",
   "metadata": {},
   "outputs": [
    {
     "data": {
      "text/plain": [
       "(107730, 53)"
      ]
     },
     "execution_count": 3,
     "metadata": {},
     "output_type": "execute_result"
    }
   ],
   "source": [
    "data.shape"
   ]
  },
  {
   "cell_type": "code",
   "execution_count": 4,
   "id": "1eca66e5",
   "metadata": {},
   "outputs": [
    {
     "data": {
      "text/plain": [
       "Index(['Day', 'Campaign status', 'Campaign', 'Budget name', 'Currency code',\n",
       "       'Budget', 'Budget type', 'Status', 'Status reasons',\n",
       "       'Optimization score', 'Bid strategy type', 'Campaign type', 'Impr.',\n",
       "       'Clicks', 'CTR', 'Avg. CPC', 'Cost', 'Conversions',\n",
       "       'Conversions (by conv. time)', 'Conv. value (by conv. time)',\n",
       "       'All conv.', 'All conv. value', 'Store visits', 'Cost / conv.',\n",
       "       'Conv. rate', 'Conv. value', 'Conv. value / cost', 'Search impr. share',\n",
       "       'Search lost IS (rank)', 'Search lost IS (budget)', 'Search top IS',\n",
       "       'Search lost top IS (rank)', 'Search lost top IS (budget)',\n",
       "       'Search abs. top IS', 'Search lost abs. top IS (rank)',\n",
       "       'Search lost abs. top IS (budget)', 'Search exact match IS',\n",
       "       'Click share', 'Invalid clicks', 'Impr. (Abs. Top) %', 'Impr. (Top) %',\n",
       "       'Value / conv.', 'View-through conv.', 'View-through store visits',\n",
       "       'Store visit value', '% new sessions', 'Store Sales', 'Store Visits',\n",
       "       'Store Revenue', 'Avg. target CPA optimization', 'Avg. target CPA',\n",
       "       'Avg. target ROAS optimization', 'Avg. target ROAS'],\n",
       "      dtype='object')"
      ]
     },
     "execution_count": 4,
     "metadata": {},
     "output_type": "execute_result"
    }
   ],
   "source": [
    "data.columns"
   ]
  },
  {
   "cell_type": "markdown",
   "id": "7ac12b37",
   "metadata": {},
   "source": [
    "# Updating Data Types\n",
    "\n",
    "most columns listed above were imported with the wrong data type due to commas (\",\") in row values. The next step is removing any unwanted symbols and updating the data types. To do this, i used the \"str.replace\" method and \"astype\" method. "
   ]
  },
  {
   "cell_type": "code",
   "execution_count": 5,
   "id": "030166af",
   "metadata": {
    "scrolled": true
   },
   "outputs": [],
   "source": [
    "for col in ['Clicks', 'Impr.']:\n",
    "    data[col]=data[col].str.replace(\",\",\"\").astype(int)\n",
    "    \n",
    "for col in ['Conv. value', 'All conv.','All conv. value']:\n",
    "    data[col]=data[col].str.replace(\",\",\"\").astype(float)    \n",
    "\n",
    "data[\"Store Revenue\"] = data[\"Store Revenue\"].str.replace(\"£\",\"\").str.replace(\",\",\"\").astype(float)"
   ]
  },
  {
   "cell_type": "code",
   "execution_count": 6,
   "id": "55b640fb",
   "metadata": {},
   "outputs": [],
   "source": [
    "for col in [\"Click share\",\"Search impr. share\",\"Search lost IS (rank)\",\"Search lost IS (budget)\"]:\n",
    "    data[col] = data[col].str.replace(\" --\",\"0\").str.replace(\"< 10%\",\"0.09\").str.replace(\">\",\"\").str.replace(\"%\",\"\").str.strip().astype(float)"
   ]
  },
  {
   "cell_type": "markdown",
   "id": "e8503884",
   "metadata": {},
   "source": [
    "# Core Dataset\n",
    "\n",
    "Now that the data types are updated, we can create our core dataset. "
   ]
  },
  {
   "cell_type": "code",
   "execution_count": 7,
   "id": "4f350c56",
   "metadata": {},
   "outputs": [],
   "source": [
    "core_df = data[['Day','Campaign','Clicks', 'Impr.','Cost','Conversions','Conv. value','Store Visits','Store Revenue','Click share','Search impr. share','Search lost IS (rank)','Search lost IS (budget)']]"
   ]
  },
  {
   "cell_type": "code",
   "execution_count": 8,
   "id": "e4ad3834",
   "metadata": {},
   "outputs": [
    {
     "data": {
      "text/plain": [
       "Day                        datetime64[ns]\n",
       "Campaign                           object\n",
       "Clicks                              int32\n",
       "Impr.                               int32\n",
       "Cost                              float64\n",
       "Conversions                       float64\n",
       "Conv. value                       float64\n",
       "Store Visits                      float64\n",
       "Store Revenue                     float64\n",
       "Click share                       float64\n",
       "Search impr. share                float64\n",
       "Search lost IS (rank)             float64\n",
       "Search lost IS (budget)           float64\n",
       "dtype: object"
      ]
     },
     "execution_count": 8,
     "metadata": {},
     "output_type": "execute_result"
    }
   ],
   "source": [
    "core_df.dtypes"
   ]
  },
  {
   "cell_type": "code",
   "execution_count": 9,
   "id": "dce53f44",
   "metadata": {},
   "outputs": [
    {
     "data": {
      "text/html": [
       "<div>\n",
       "<style scoped>\n",
       "    .dataframe tbody tr th:only-of-type {\n",
       "        vertical-align: middle;\n",
       "    }\n",
       "\n",
       "    .dataframe tbody tr th {\n",
       "        vertical-align: top;\n",
       "    }\n",
       "\n",
       "    .dataframe thead th {\n",
       "        text-align: right;\n",
       "    }\n",
       "</style>\n",
       "<table border=\"1\" class=\"dataframe\">\n",
       "  <thead>\n",
       "    <tr style=\"text-align: right;\">\n",
       "      <th></th>\n",
       "      <th>Clicks</th>\n",
       "      <th>Impr.</th>\n",
       "      <th>Cost</th>\n",
       "      <th>Conversions</th>\n",
       "      <th>Conv. value</th>\n",
       "      <th>Store Visits</th>\n",
       "      <th>Store Revenue</th>\n",
       "      <th>Click share</th>\n",
       "      <th>Search impr. share</th>\n",
       "      <th>Search lost IS (rank)</th>\n",
       "      <th>Search lost IS (budget)</th>\n",
       "    </tr>\n",
       "  </thead>\n",
       "  <tbody>\n",
       "    <tr>\n",
       "      <th>count</th>\n",
       "      <td>107730.000000</td>\n",
       "      <td>1.077300e+05</td>\n",
       "      <td>107730.000000</td>\n",
       "      <td>107730.000000</td>\n",
       "      <td>107730.000000</td>\n",
       "      <td>107730.000000</td>\n",
       "      <td>107730.000000</td>\n",
       "      <td>107730.000000</td>\n",
       "      <td>107730.000000</td>\n",
       "      <td>107730.000000</td>\n",
       "      <td>107730.000000</td>\n",
       "    </tr>\n",
       "    <tr>\n",
       "      <th>mean</th>\n",
       "      <td>167.763121</td>\n",
       "      <td>7.550237e+03</td>\n",
       "      <td>70.762098</td>\n",
       "      <td>2.226363</td>\n",
       "      <td>1008.693889</td>\n",
       "      <td>7.529670</td>\n",
       "      <td>832.922419</td>\n",
       "      <td>21.903423</td>\n",
       "      <td>32.882110</td>\n",
       "      <td>28.702829</td>\n",
       "      <td>0.025334</td>\n",
       "    </tr>\n",
       "    <tr>\n",
       "      <th>std</th>\n",
       "      <td>624.870090</td>\n",
       "      <td>4.509005e+04</td>\n",
       "      <td>298.634425</td>\n",
       "      <td>11.042734</td>\n",
       "      <td>5370.788128</td>\n",
       "      <td>31.453462</td>\n",
       "      <td>3914.106541</td>\n",
       "      <td>31.609434</td>\n",
       "      <td>36.342145</td>\n",
       "      <td>33.259391</td>\n",
       "      <td>0.840488</td>\n",
       "    </tr>\n",
       "    <tr>\n",
       "      <th>min</th>\n",
       "      <td>0.000000</td>\n",
       "      <td>0.000000e+00</td>\n",
       "      <td>0.000000</td>\n",
       "      <td>0.000000</td>\n",
       "      <td>0.000000</td>\n",
       "      <td>0.000000</td>\n",
       "      <td>0.000000</td>\n",
       "      <td>0.000000</td>\n",
       "      <td>0.000000</td>\n",
       "      <td>0.000000</td>\n",
       "      <td>0.000000</td>\n",
       "    </tr>\n",
       "    <tr>\n",
       "      <th>25%</th>\n",
       "      <td>0.000000</td>\n",
       "      <td>0.000000e+00</td>\n",
       "      <td>0.000000</td>\n",
       "      <td>0.000000</td>\n",
       "      <td>0.000000</td>\n",
       "      <td>0.000000</td>\n",
       "      <td>0.000000</td>\n",
       "      <td>0.000000</td>\n",
       "      <td>0.000000</td>\n",
       "      <td>0.000000</td>\n",
       "      <td>0.000000</td>\n",
       "    </tr>\n",
       "    <tr>\n",
       "      <th>50%</th>\n",
       "      <td>4.000000</td>\n",
       "      <td>3.200000e+01</td>\n",
       "      <td>0.610000</td>\n",
       "      <td>0.000000</td>\n",
       "      <td>0.000000</td>\n",
       "      <td>0.000000</td>\n",
       "      <td>0.000000</td>\n",
       "      <td>0.090000</td>\n",
       "      <td>19.190000</td>\n",
       "      <td>9.555000</td>\n",
       "      <td>0.000000</td>\n",
       "    </tr>\n",
       "    <tr>\n",
       "      <th>75%</th>\n",
       "      <td>95.000000</td>\n",
       "      <td>2.005000e+03</td>\n",
       "      <td>29.790000</td>\n",
       "      <td>0.910000</td>\n",
       "      <td>156.975000</td>\n",
       "      <td>2.710000</td>\n",
       "      <td>0.000000</td>\n",
       "      <td>32.910000</td>\n",
       "      <td>63.740000</td>\n",
       "      <td>58.490000</td>\n",
       "      <td>0.000000</td>\n",
       "    </tr>\n",
       "    <tr>\n",
       "      <th>max</th>\n",
       "      <td>31074.000000</td>\n",
       "      <td>2.856543e+06</td>\n",
       "      <td>21549.840000</td>\n",
       "      <td>697.460000</td>\n",
       "      <td>353621.870000</td>\n",
       "      <td>874.000000</td>\n",
       "      <td>133685.660000</td>\n",
       "      <td>100.000000</td>\n",
       "      <td>100.000000</td>\n",
       "      <td>90.000000</td>\n",
       "      <td>69.080000</td>\n",
       "    </tr>\n",
       "  </tbody>\n",
       "</table>\n",
       "</div>"
      ],
      "text/plain": [
       "              Clicks         Impr.           Cost    Conversions  \\\n",
       "count  107730.000000  1.077300e+05  107730.000000  107730.000000   \n",
       "mean      167.763121  7.550237e+03      70.762098       2.226363   \n",
       "std       624.870090  4.509005e+04     298.634425      11.042734   \n",
       "min         0.000000  0.000000e+00       0.000000       0.000000   \n",
       "25%         0.000000  0.000000e+00       0.000000       0.000000   \n",
       "50%         4.000000  3.200000e+01       0.610000       0.000000   \n",
       "75%        95.000000  2.005000e+03      29.790000       0.910000   \n",
       "max     31074.000000  2.856543e+06   21549.840000     697.460000   \n",
       "\n",
       "         Conv. value   Store Visits  Store Revenue    Click share  \\\n",
       "count  107730.000000  107730.000000  107730.000000  107730.000000   \n",
       "mean     1008.693889       7.529670     832.922419      21.903423   \n",
       "std      5370.788128      31.453462    3914.106541      31.609434   \n",
       "min         0.000000       0.000000       0.000000       0.000000   \n",
       "25%         0.000000       0.000000       0.000000       0.000000   \n",
       "50%         0.000000       0.000000       0.000000       0.090000   \n",
       "75%       156.975000       2.710000       0.000000      32.910000   \n",
       "max    353621.870000     874.000000  133685.660000     100.000000   \n",
       "\n",
       "       Search impr. share  Search lost IS (rank)  Search lost IS (budget)  \n",
       "count       107730.000000          107730.000000            107730.000000  \n",
       "mean            32.882110              28.702829                 0.025334  \n",
       "std             36.342145              33.259391                 0.840488  \n",
       "min              0.000000               0.000000                 0.000000  \n",
       "25%              0.000000               0.000000                 0.000000  \n",
       "50%             19.190000               9.555000                 0.000000  \n",
       "75%             63.740000              58.490000                 0.000000  \n",
       "max            100.000000              90.000000                69.080000  "
      ]
     },
     "execution_count": 9,
     "metadata": {},
     "output_type": "execute_result"
    }
   ],
   "source": [
    "core_df.describe()"
   ]
  },
  {
   "cell_type": "markdown",
   "id": "458d4858",
   "metadata": {},
   "source": [
    "## Removing zero values\n",
    "\n",
    "After reviewing my new data set, i noticed there were numerous rows with 0 values. This can skew statistics like the mean, std etc... Lets remove all zero values."
   ]
  },
  {
   "cell_type": "code",
   "execution_count": 10,
   "id": "f2437f63",
   "metadata": {},
   "outputs": [],
   "source": [
    "nonZeroImpr = (core_df[\"Impr.\"] > 0)\n"
   ]
  },
  {
   "cell_type": "code",
   "execution_count": 11,
   "id": "e43531c7",
   "metadata": {},
   "outputs": [
    {
     "data": {
      "text/html": [
       "<div>\n",
       "<style scoped>\n",
       "    .dataframe tbody tr th:only-of-type {\n",
       "        vertical-align: middle;\n",
       "    }\n",
       "\n",
       "    .dataframe tbody tr th {\n",
       "        vertical-align: top;\n",
       "    }\n",
       "\n",
       "    .dataframe thead th {\n",
       "        text-align: right;\n",
       "    }\n",
       "</style>\n",
       "<table border=\"1\" class=\"dataframe\">\n",
       "  <thead>\n",
       "    <tr style=\"text-align: right;\">\n",
       "      <th></th>\n",
       "      <th>Day</th>\n",
       "      <th>Campaign</th>\n",
       "      <th>Clicks</th>\n",
       "      <th>Impr.</th>\n",
       "      <th>Cost</th>\n",
       "      <th>Conversions</th>\n",
       "      <th>Conv. value</th>\n",
       "      <th>Store Visits</th>\n",
       "      <th>Store Revenue</th>\n",
       "      <th>Click share</th>\n",
       "      <th>Search impr. share</th>\n",
       "      <th>Search lost IS (rank)</th>\n",
       "      <th>Search lost IS (budget)</th>\n",
       "    </tr>\n",
       "  </thead>\n",
       "  <tbody>\n",
       "    <tr>\n",
       "      <th>2</th>\n",
       "      <td>2019-01-10</td>\n",
       "      <td>{Google - Generic - Mattresses Competitors - N...</td>\n",
       "      <td>13</td>\n",
       "      <td>1943</td>\n",
       "      <td>6.29</td>\n",
       "      <td>0.00</td>\n",
       "      <td>0.00</td>\n",
       "      <td>1.0</td>\n",
       "      <td>0.00</td>\n",
       "      <td>0.09</td>\n",
       "      <td>27.08</td>\n",
       "      <td>72.92</td>\n",
       "      <td>0.0</td>\n",
       "    </tr>\n",
       "    <tr>\n",
       "      <th>4</th>\n",
       "      <td>2021-03-19</td>\n",
       "      <td>{Google - Generic - Beds Brands - NVK - BMM}</td>\n",
       "      <td>0</td>\n",
       "      <td>2</td>\n",
       "      <td>0.00</td>\n",
       "      <td>0.00</td>\n",
       "      <td>0.00</td>\n",
       "      <td>0.0</td>\n",
       "      <td>0.00</td>\n",
       "      <td>0.00</td>\n",
       "      <td>40.00</td>\n",
       "      <td>60.00</td>\n",
       "      <td>0.0</td>\n",
       "    </tr>\n",
       "    <tr>\n",
       "      <th>7</th>\n",
       "      <td>2019-02-10</td>\n",
       "      <td>{Google - Generic - Beds Sizes - NVK - BMM}</td>\n",
       "      <td>305</td>\n",
       "      <td>52340</td>\n",
       "      <td>112.88</td>\n",
       "      <td>1.32</td>\n",
       "      <td>1015.09</td>\n",
       "      <td>7.0</td>\n",
       "      <td>1708.31</td>\n",
       "      <td>16.20</td>\n",
       "      <td>31.48</td>\n",
       "      <td>68.52</td>\n",
       "      <td>0.0</td>\n",
       "    </tr>\n",
       "    <tr>\n",
       "      <th>8</th>\n",
       "      <td>2019-03-14</td>\n",
       "      <td>{Google - Generic - Headboards - NVK - BMM}</td>\n",
       "      <td>60</td>\n",
       "      <td>6405</td>\n",
       "      <td>18.26</td>\n",
       "      <td>0.00</td>\n",
       "      <td>0.00</td>\n",
       "      <td>0.0</td>\n",
       "      <td>756.54</td>\n",
       "      <td>21.64</td>\n",
       "      <td>42.26</td>\n",
       "      <td>57.74</td>\n",
       "      <td>0.0</td>\n",
       "    </tr>\n",
       "    <tr>\n",
       "      <th>9</th>\n",
       "      <td>2019-06-23</td>\n",
       "      <td>{Google - Generic - Headboards - NVK - BMM}</td>\n",
       "      <td>59</td>\n",
       "      <td>8573</td>\n",
       "      <td>21.33</td>\n",
       "      <td>1.00</td>\n",
       "      <td>179.00</td>\n",
       "      <td>0.0</td>\n",
       "      <td>915.96</td>\n",
       "      <td>28.90</td>\n",
       "      <td>46.82</td>\n",
       "      <td>53.18</td>\n",
       "      <td>0.0</td>\n",
       "    </tr>\n",
       "  </tbody>\n",
       "</table>\n",
       "</div>"
      ],
      "text/plain": [
       "         Day                                           Campaign  Clicks  \\\n",
       "2 2019-01-10  {Google - Generic - Mattresses Competitors - N...      13   \n",
       "4 2021-03-19       {Google - Generic - Beds Brands - NVK - BMM}       0   \n",
       "7 2019-02-10        {Google - Generic - Beds Sizes - NVK - BMM}     305   \n",
       "8 2019-03-14        {Google - Generic - Headboards - NVK - BMM}      60   \n",
       "9 2019-06-23        {Google - Generic - Headboards - NVK - BMM}      59   \n",
       "\n",
       "   Impr.    Cost  Conversions  Conv. value  Store Visits  Store Revenue  \\\n",
       "2   1943    6.29         0.00         0.00           1.0           0.00   \n",
       "4      2    0.00         0.00         0.00           0.0           0.00   \n",
       "7  52340  112.88         1.32      1015.09           7.0        1708.31   \n",
       "8   6405   18.26         0.00         0.00           0.0         756.54   \n",
       "9   8573   21.33         1.00       179.00           0.0         915.96   \n",
       "\n",
       "   Click share  Search impr. share  Search lost IS (rank)  \\\n",
       "2         0.09               27.08                  72.92   \n",
       "4         0.00               40.00                  60.00   \n",
       "7        16.20               31.48                  68.52   \n",
       "8        21.64               42.26                  57.74   \n",
       "9        28.90               46.82                  53.18   \n",
       "\n",
       "   Search lost IS (budget)  \n",
       "2                      0.0  \n",
       "4                      0.0  \n",
       "7                      0.0  \n",
       "8                      0.0  \n",
       "9                      0.0  "
      ]
     },
     "execution_count": 11,
     "metadata": {},
     "output_type": "execute_result"
    }
   ],
   "source": [
    "non_zero_df = core_df.loc[nonZeroImpr]\n",
    "non_zero_df.head()\n"
   ]
  },
  {
   "cell_type": "code",
   "execution_count": 12,
   "id": "4c3a7b93",
   "metadata": {},
   "outputs": [
    {
     "data": {
      "text/plain": [
       "(66134, 13)"
      ]
     },
     "execution_count": 12,
     "metadata": {},
     "output_type": "execute_result"
    }
   ],
   "source": [
    "non_zero_df.shape"
   ]
  },
  {
   "cell_type": "code",
   "execution_count": 13,
   "id": "80e97032",
   "metadata": {},
   "outputs": [
    {
     "data": {
      "text/html": [
       "<div>\n",
       "<style scoped>\n",
       "    .dataframe tbody tr th:only-of-type {\n",
       "        vertical-align: middle;\n",
       "    }\n",
       "\n",
       "    .dataframe tbody tr th {\n",
       "        vertical-align: top;\n",
       "    }\n",
       "\n",
       "    .dataframe thead th {\n",
       "        text-align: right;\n",
       "    }\n",
       "</style>\n",
       "<table border=\"1\" class=\"dataframe\">\n",
       "  <thead>\n",
       "    <tr style=\"text-align: right;\">\n",
       "      <th></th>\n",
       "      <th>Clicks</th>\n",
       "      <th>Impr.</th>\n",
       "      <th>Cost</th>\n",
       "      <th>Conversions</th>\n",
       "      <th>Conv. value</th>\n",
       "      <th>Store Visits</th>\n",
       "      <th>Store Revenue</th>\n",
       "      <th>Click share</th>\n",
       "      <th>Search impr. share</th>\n",
       "      <th>Search lost IS (rank)</th>\n",
       "      <th>Search lost IS (budget)</th>\n",
       "    </tr>\n",
       "  </thead>\n",
       "  <tbody>\n",
       "    <tr>\n",
       "      <th>count</th>\n",
       "      <td>66134.000000</td>\n",
       "      <td>6.613400e+04</td>\n",
       "      <td>66134.000000</td>\n",
       "      <td>66134.000000</td>\n",
       "      <td>66134.000000</td>\n",
       "      <td>66134.000000</td>\n",
       "      <td>66134.000000</td>\n",
       "      <td>66134.000000</td>\n",
       "      <td>66134.000000</td>\n",
       "      <td>66134.000000</td>\n",
       "      <td>66134.000000</td>\n",
       "    </tr>\n",
       "    <tr>\n",
       "      <th>mean</th>\n",
       "      <td>273.280310</td>\n",
       "      <td>1.229907e+04</td>\n",
       "      <td>115.269006</td>\n",
       "      <td>3.626668</td>\n",
       "      <td>1643.127478</td>\n",
       "      <td>12.265572</td>\n",
       "      <td>1356.801829</td>\n",
       "      <td>35.679918</td>\n",
       "      <td>53.562202</td>\n",
       "      <td>45.137838</td>\n",
       "      <td>0.041268</td>\n",
       "    </tr>\n",
       "    <tr>\n",
       "      <th>std</th>\n",
       "      <td>779.241706</td>\n",
       "      <td>5.703931e+04</td>\n",
       "      <td>374.360449</td>\n",
       "      <td>13.912652</td>\n",
       "      <td>6778.340949</td>\n",
       "      <td>39.414318</td>\n",
       "      <td>4923.967866</td>\n",
       "      <td>33.705326</td>\n",
       "      <td>32.308453</td>\n",
       "      <td>30.998612</td>\n",
       "      <td>1.072420</td>\n",
       "    </tr>\n",
       "    <tr>\n",
       "      <th>min</th>\n",
       "      <td>0.000000</td>\n",
       "      <td>1.000000e+00</td>\n",
       "      <td>0.000000</td>\n",
       "      <td>0.000000</td>\n",
       "      <td>0.000000</td>\n",
       "      <td>0.000000</td>\n",
       "      <td>0.000000</td>\n",
       "      <td>0.000000</td>\n",
       "      <td>0.000000</td>\n",
       "      <td>0.000000</td>\n",
       "      <td>0.000000</td>\n",
       "    </tr>\n",
       "    <tr>\n",
       "      <th>25%</th>\n",
       "      <td>8.000000</td>\n",
       "      <td>8.100000e+01</td>\n",
       "      <td>1.480000</td>\n",
       "      <td>0.000000</td>\n",
       "      <td>0.000000</td>\n",
       "      <td>0.000000</td>\n",
       "      <td>0.000000</td>\n",
       "      <td>0.090000</td>\n",
       "      <td>25.382500</td>\n",
       "      <td>15.792500</td>\n",
       "      <td>0.000000</td>\n",
       "    </tr>\n",
       "    <tr>\n",
       "      <th>50%</th>\n",
       "      <td>54.000000</td>\n",
       "      <td>1.027000e+03</td>\n",
       "      <td>15.520000</td>\n",
       "      <td>0.000000</td>\n",
       "      <td>0.000000</td>\n",
       "      <td>1.000000</td>\n",
       "      <td>0.000000</td>\n",
       "      <td>24.490000</td>\n",
       "      <td>53.030000</td>\n",
       "      <td>46.390000</td>\n",
       "      <td>0.000000</td>\n",
       "    </tr>\n",
       "    <tr>\n",
       "      <th>75%</th>\n",
       "      <td>227.000000</td>\n",
       "      <td>5.820000e+03</td>\n",
       "      <td>92.237500</td>\n",
       "      <td>2.000000</td>\n",
       "      <td>781.077500</td>\n",
       "      <td>8.000000</td>\n",
       "      <td>828.467500</td>\n",
       "      <td>61.660000</td>\n",
       "      <td>83.330000</td>\n",
       "      <td>74.050000</td>\n",
       "      <td>0.000000</td>\n",
       "    </tr>\n",
       "    <tr>\n",
       "      <th>max</th>\n",
       "      <td>31074.000000</td>\n",
       "      <td>2.856543e+06</td>\n",
       "      <td>21549.840000</td>\n",
       "      <td>697.460000</td>\n",
       "      <td>353621.870000</td>\n",
       "      <td>874.000000</td>\n",
       "      <td>133685.660000</td>\n",
       "      <td>100.000000</td>\n",
       "      <td>100.000000</td>\n",
       "      <td>90.000000</td>\n",
       "      <td>69.080000</td>\n",
       "    </tr>\n",
       "  </tbody>\n",
       "</table>\n",
       "</div>"
      ],
      "text/plain": [
       "             Clicks         Impr.          Cost   Conversions    Conv. value  \\\n",
       "count  66134.000000  6.613400e+04  66134.000000  66134.000000   66134.000000   \n",
       "mean     273.280310  1.229907e+04    115.269006      3.626668    1643.127478   \n",
       "std      779.241706  5.703931e+04    374.360449     13.912652    6778.340949   \n",
       "min        0.000000  1.000000e+00      0.000000      0.000000       0.000000   \n",
       "25%        8.000000  8.100000e+01      1.480000      0.000000       0.000000   \n",
       "50%       54.000000  1.027000e+03     15.520000      0.000000       0.000000   \n",
       "75%      227.000000  5.820000e+03     92.237500      2.000000     781.077500   \n",
       "max    31074.000000  2.856543e+06  21549.840000    697.460000  353621.870000   \n",
       "\n",
       "       Store Visits  Store Revenue   Click share  Search impr. share  \\\n",
       "count  66134.000000   66134.000000  66134.000000        66134.000000   \n",
       "mean      12.265572    1356.801829     35.679918           53.562202   \n",
       "std       39.414318    4923.967866     33.705326           32.308453   \n",
       "min        0.000000       0.000000      0.000000            0.000000   \n",
       "25%        0.000000       0.000000      0.090000           25.382500   \n",
       "50%        1.000000       0.000000     24.490000           53.030000   \n",
       "75%        8.000000     828.467500     61.660000           83.330000   \n",
       "max      874.000000  133685.660000    100.000000          100.000000   \n",
       "\n",
       "       Search lost IS (rank)  Search lost IS (budget)  \n",
       "count           66134.000000             66134.000000  \n",
       "mean               45.137838                 0.041268  \n",
       "std                30.998612                 1.072420  \n",
       "min                 0.000000                 0.000000  \n",
       "25%                15.792500                 0.000000  \n",
       "50%                46.390000                 0.000000  \n",
       "75%                74.050000                 0.000000  \n",
       "max                90.000000                69.080000  "
      ]
     },
     "execution_count": 13,
     "metadata": {},
     "output_type": "execute_result"
    }
   ],
   "source": [
    "non_zero_df.describe()"
   ]
  },
  {
   "cell_type": "markdown",
   "id": "71c29c87",
   "metadata": {},
   "source": [
    "# Sale Distribution"
   ]
  },
  {
   "cell_type": "code",
   "execution_count": 36,
   "id": "d996fa63",
   "metadata": {},
   "outputs": [
    {
     "data": {
      "image/png": "[encoded data removed]",
      "text/plain": [
       "<Figure size 720x504 with 1 Axes>"
      ]
     },
     "metadata": {
      "needs_background": "light"
     },
     "output_type": "display_data"
    }
   ],
   "source": [
    "Avg_Sales = non_zero_df.groupby(\"Campaign\")[[\"Conversions\",\"Conv. value\"]].mean().reset_index().sort_values(\"Conversions\", ascending=False)\n",
    "campaigns = Avg_Sales[\"Campaign\"]\n",
    "conv = Avg_Sales[\"Conversions\"]\n",
    "sales = Avg_Sales[\"Conv. value\"]\n",
    "# Figure Size\n",
    "fig = plt.figure(figsize =(10, 7))\n",
    "plt.bar(campaigns[0:10], conv[0:10])\n",
    "width = 0.4\n",
    "plt.title(\"Top 10 Campaigns - Avg Sales\")      \n",
    "plt.ylabel(\"Avg Sales\")\n",
    "plt.xticks(rotation=90) \n",
    "plt.xticks(rotation=90) \n",
    "# Show Plot\n",
    "plt.show()\n"
   ]
  },
  {
   "cell_type": "code",
   "execution_count": 37,
   "id": "c8fce939",
   "metadata": {},
   "outputs": [
    {
     "data": {
      "image/png": "[encoded data removed]",
      "text/plain": [
       "<Figure size 1080x720 with 12 Axes>"
      ]
     },
     "metadata": {
      "needs_background": "light"
     },
     "output_type": "display_data"
    }
   ],
   "source": [
    "non_zero_df.hist(figsize=(15,10))\n",
    "plt.subplots_adjust(hspace=0.5);"
   ]
  },
  {
   "cell_type": "code",
   "execution_count": 38,
   "id": "943da258",
   "metadata": {},
   "outputs": [
    {
     "data": {
      "image/png": "[encoded data removed]",
      "text/plain": [
       "<Figure size 432x288 with 1 Axes>"
      ]
     },
     "metadata": {
      "needs_background": "light"
     },
     "output_type": "display_data"
    }
   ],
   "source": [
    "non_zero_df.plot(x=\"Conversions\", y=\"Conv. value\", kind='scatter');"
   ]
  },
  {
   "cell_type": "markdown",
   "id": "f77e4144",
   "metadata": {},
   "source": [
    "# Summary\n",
    "\n",
    "To conclude, we have:\n",
    "1.) Removed unwanted values from rows\n",
    "2.) Updated data types\n",
    "3.) Created new dataframe with the core columns needed for my project\n",
    "4.) Removed zero value rows\n",
    "\n",
    "Data is clean and streamlined. Next step is Exploratory Data Analysis (EDA)"
   ]
  }
 ],
 "metadata": {
  "kernelspec": {
   "display_name": "Python 3",
   "language": "python",
   "name": "python3"
  },
  "language_info": {
   "codemirror_mode": {
    "name": "ipython",
    "version": 3
   },
   "file_extension": ".py",
   "mimetype": "text/x-python",
   "name": "python",
   "nbconvert_exporter": "python",
   "pygments_lexer": "ipython3",
   "version": "3.8.8"
  }
 },
 "nbformat": 4,
 "nbformat_minor": 5
}
