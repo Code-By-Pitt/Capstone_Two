{
  "nbformat": 4,
  "nbformat_minor": 0,
  "metadata": {
    "colab": {
      "name": "Captsone2 - Hyperparameters & Modelling - Regression",
      "provenance": [],
      "collapsed_sections": [],
      "authorship_tag": "ABX9TyN/nr6DCsoXhiRvBZ8iMQh+",
      "include_colab_link": true
    },
    "kernelspec": {
      "display_name": "Python 3",
      "name": "python3"
    },
    "language_info": {
      "name": "python"
    }
  },
  "cells": [
    {
      "cell_type": "markdown",
      "metadata": {
        "id": "view-in-github",
        "colab_type": "text"
      },
      "source": [
        "<a href=\"https://colab.research.google.com/github/Code-By-Pitt/Capstone_Two/blob/main/Captsone2_Hyperparameters_%26_Modelling_Regression.ipynb\" target=\"_parent\"><img src=\"https://colab.research.google.com/assets/colab-badge.svg\" alt=\"Open In Colab\"/></a>"
      ]
    },
    {
      "cell_type": "code",
      "metadata": {
        "colab": {
          "base_uri": "https://localhost:8080/"
        },
        "id": "qO1grxC819Up",
        "outputId": "86e4269a-da80-4553-bab7-384a20902e8f"
      },
      "source": [
        "#Only necessary to run this cell once\n",
        "from google.colab import drive \n",
        "drive.mount('/content/gdrive')"
      ],
      "execution_count": null,
      "outputs": [
        {
          "output_type": "stream",
          "name": "stdout",
          "text": [
            "Drive already mounted at /content/gdrive; to attempt to forcibly remount, call drive.mount(\"/content/gdrive\", force_remount=True).\n"
          ]
        }
      ]
    },
    {
      "cell_type": "code",
      "metadata": {
        "id": "hUDYaU2F2kQf"
      },
      "source": [
        "import pandas as pd\n",
        "import numpy as np\n",
        "import seaborn as sns"
      ],
      "execution_count": null,
      "outputs": []
    },
    {
      "cell_type": "code",
      "metadata": {
        "colab": {
          "base_uri": "https://localhost:8080/",
          "height": 330
        },
        "id": "vSBq47Vh2crH",
        "outputId": "3e789d1a-17a7-45ee-e6ff-dcbd71e10e9e"
      },
      "source": [
        "data=pd.read_csv('/content/gdrive/MyDrive/Springboard/Capstone2/Raw_Data/cleaned_daily_data.csv')\n",
        "data.head()\n"
      ],
      "execution_count": null,
      "outputs": [
        {
          "output_type": "execute_result",
          "data": {
            "text/html": [
              "<div>\n",
              "<style scoped>\n",
              "    .dataframe tbody tr th:only-of-type {\n",
              "        vertical-align: middle;\n",
              "    }\n",
              "\n",
              "    .dataframe tbody tr th {\n",
              "        vertical-align: top;\n",
              "    }\n",
              "\n",
              "    .dataframe thead th {\n",
              "        text-align: right;\n",
              "    }\n",
              "</style>\n",
              "<table border=\"1\" class=\"dataframe\">\n",
              "  <thead>\n",
              "    <tr style=\"text-align: right;\">\n",
              "      <th></th>\n",
              "      <th>Day</th>\n",
              "      <th>campaign_label</th>\n",
              "      <th>Clicks</th>\n",
              "      <th>Impr.</th>\n",
              "      <th>Cost</th>\n",
              "      <th>Conversions</th>\n",
              "      <th>Conv. value</th>\n",
              "      <th>Store Visits</th>\n",
              "      <th>Store Revenue</th>\n",
              "      <th>dayName</th>\n",
              "      <th>DayofYear</th>\n",
              "      <th>Week_no</th>\n",
              "      <th>year</th>\n",
              "      <th>MonthName</th>\n",
              "      <th>Quarter</th>\n",
              "      <th>CPA</th>\n",
              "      <th>CTR</th>\n",
              "      <th>CPC</th>\n",
              "      <th>AOV</th>\n",
              "      <th>Quarter2</th>\n",
              "    </tr>\n",
              "  </thead>\n",
              "  <tbody>\n",
              "    <tr>\n",
              "      <th>0</th>\n",
              "      <td>2019-01-01</td>\n",
              "      <td>Generic</td>\n",
              "      <td>17705</td>\n",
              "      <td>841317</td>\n",
              "      <td>13621.93</td>\n",
              "      <td>123.65</td>\n",
              "      <td>47208.75</td>\n",
              "      <td>676.0</td>\n",
              "      <td>56324.70</td>\n",
              "      <td>Tuesday</td>\n",
              "      <td>1</td>\n",
              "      <td>1</td>\n",
              "      <td>2019</td>\n",
              "      <td>January</td>\n",
              "      <td>1</td>\n",
              "      <td>110.165224</td>\n",
              "      <td>0.021044</td>\n",
              "      <td>0.769383</td>\n",
              "      <td>3.465643</td>\n",
              "      <td>Q1</td>\n",
              "    </tr>\n",
              "    <tr>\n",
              "      <th>1</th>\n",
              "      <td>2019-01-02</td>\n",
              "      <td>Generic</td>\n",
              "      <td>15741</td>\n",
              "      <td>778103</td>\n",
              "      <td>14037.76</td>\n",
              "      <td>131.54</td>\n",
              "      <td>53946.99</td>\n",
              "      <td>587.0</td>\n",
              "      <td>38713.52</td>\n",
              "      <td>Wednesday</td>\n",
              "      <td>2</td>\n",
              "      <td>1</td>\n",
              "      <td>2019</td>\n",
              "      <td>January</td>\n",
              "      <td>1</td>\n",
              "      <td>106.718565</td>\n",
              "      <td>0.020230</td>\n",
              "      <td>0.891796</td>\n",
              "      <td>3.842991</td>\n",
              "      <td>Q1</td>\n",
              "    </tr>\n",
              "    <tr>\n",
              "      <th>2</th>\n",
              "      <td>2019-01-03</td>\n",
              "      <td>Generic</td>\n",
              "      <td>6959</td>\n",
              "      <td>338800</td>\n",
              "      <td>4261.37</td>\n",
              "      <td>41.27</td>\n",
              "      <td>14742.38</td>\n",
              "      <td>299.0</td>\n",
              "      <td>19999.74</td>\n",
              "      <td>Thursday</td>\n",
              "      <td>3</td>\n",
              "      <td>1</td>\n",
              "      <td>2019</td>\n",
              "      <td>January</td>\n",
              "      <td>1</td>\n",
              "      <td>103.255876</td>\n",
              "      <td>0.020540</td>\n",
              "      <td>0.612354</td>\n",
              "      <td>3.459540</td>\n",
              "      <td>Q1</td>\n",
              "    </tr>\n",
              "    <tr>\n",
              "      <th>3</th>\n",
              "      <td>2019-01-04</td>\n",
              "      <td>Generic</td>\n",
              "      <td>8000</td>\n",
              "      <td>425764</td>\n",
              "      <td>5367.59</td>\n",
              "      <td>47.45</td>\n",
              "      <td>20522.77</td>\n",
              "      <td>360.0</td>\n",
              "      <td>22256.93</td>\n",
              "      <td>Friday</td>\n",
              "      <td>4</td>\n",
              "      <td>1</td>\n",
              "      <td>2019</td>\n",
              "      <td>January</td>\n",
              "      <td>1</td>\n",
              "      <td>113.120969</td>\n",
              "      <td>0.018790</td>\n",
              "      <td>0.670949</td>\n",
              "      <td>3.823461</td>\n",
              "      <td>Q1</td>\n",
              "    </tr>\n",
              "    <tr>\n",
              "      <th>4</th>\n",
              "      <td>2019-01-05</td>\n",
              "      <td>Generic</td>\n",
              "      <td>11422</td>\n",
              "      <td>697889</td>\n",
              "      <td>8417.39</td>\n",
              "      <td>70.62</td>\n",
              "      <td>24958.24</td>\n",
              "      <td>503.0</td>\n",
              "      <td>40467.47</td>\n",
              "      <td>Saturday</td>\n",
              "      <td>5</td>\n",
              "      <td>1</td>\n",
              "      <td>2019</td>\n",
              "      <td>January</td>\n",
              "      <td>1</td>\n",
              "      <td>119.192722</td>\n",
              "      <td>0.016366</td>\n",
              "      <td>0.736945</td>\n",
              "      <td>2.965081</td>\n",
              "      <td>Q1</td>\n",
              "    </tr>\n",
              "  </tbody>\n",
              "</table>\n",
              "</div>"
            ],
            "text/plain": [
              "          Day campaign_label  Clicks  ...       CPC       AOV  Quarter2\n",
              "0  2019-01-01        Generic   17705  ...  0.769383  3.465643        Q1\n",
              "1  2019-01-02        Generic   15741  ...  0.891796  3.842991        Q1\n",
              "2  2019-01-03        Generic    6959  ...  0.612354  3.459540        Q1\n",
              "3  2019-01-04        Generic    8000  ...  0.670949  3.823461        Q1\n",
              "4  2019-01-05        Generic   11422  ...  0.736945  2.965081        Q1\n",
              "\n",
              "[5 rows x 20 columns]"
            ]
          },
          "metadata": {},
          "execution_count": 3
        }
      ]
    },
    {
      "cell_type": "code",
      "metadata": {
        "colab": {
          "base_uri": "https://localhost:8080/",
          "height": 341
        },
        "id": "i7DrFAZJ-o-_",
        "outputId": "81b972ce-06fe-4d32-8b59-bc26c40090db"
      },
      "source": [
        "data.set_index('Day',inplace=True)\n",
        "data.drop(['Quarter','DayofYear','Week_no'], axis = 1,inplace=True)\n",
        "data.head()"
      ],
      "execution_count": null,
      "outputs": [
        {
          "output_type": "execute_result",
          "data": {
            "text/html": [
              "<div>\n",
              "<style scoped>\n",
              "    .dataframe tbody tr th:only-of-type {\n",
              "        vertical-align: middle;\n",
              "    }\n",
              "\n",
              "    .dataframe tbody tr th {\n",
              "        vertical-align: top;\n",
              "    }\n",
              "\n",
              "    .dataframe thead th {\n",
              "        text-align: right;\n",
              "    }\n",
              "</style>\n",
              "<table border=\"1\" class=\"dataframe\">\n",
              "  <thead>\n",
              "    <tr style=\"text-align: right;\">\n",
              "      <th></th>\n",
              "      <th>campaign_label</th>\n",
              "      <th>Clicks</th>\n",
              "      <th>Impr.</th>\n",
              "      <th>Cost</th>\n",
              "      <th>Conversions</th>\n",
              "      <th>Conv. value</th>\n",
              "      <th>Store Visits</th>\n",
              "      <th>Store Revenue</th>\n",
              "      <th>dayName</th>\n",
              "      <th>year</th>\n",
              "      <th>MonthName</th>\n",
              "      <th>CPA</th>\n",
              "      <th>CTR</th>\n",
              "      <th>CPC</th>\n",
              "      <th>AOV</th>\n",
              "      <th>Quarter2</th>\n",
              "    </tr>\n",
              "    <tr>\n",
              "      <th>Day</th>\n",
              "      <th></th>\n",
              "      <th></th>\n",
              "      <th></th>\n",
              "      <th></th>\n",
              "      <th></th>\n",
              "      <th></th>\n",
              "      <th></th>\n",
              "      <th></th>\n",
              "      <th></th>\n",
              "      <th></th>\n",
              "      <th></th>\n",
              "      <th></th>\n",
              "      <th></th>\n",
              "      <th></th>\n",
              "      <th></th>\n",
              "      <th></th>\n",
              "    </tr>\n",
              "  </thead>\n",
              "  <tbody>\n",
              "    <tr>\n",
              "      <th>2019-01-01</th>\n",
              "      <td>Generic</td>\n",
              "      <td>17705</td>\n",
              "      <td>841317</td>\n",
              "      <td>13621.93</td>\n",
              "      <td>123.65</td>\n",
              "      <td>47208.75</td>\n",
              "      <td>676.0</td>\n",
              "      <td>56324.70</td>\n",
              "      <td>Tuesday</td>\n",
              "      <td>2019</td>\n",
              "      <td>January</td>\n",
              "      <td>110.165224</td>\n",
              "      <td>0.021044</td>\n",
              "      <td>0.769383</td>\n",
              "      <td>3.465643</td>\n",
              "      <td>Q1</td>\n",
              "    </tr>\n",
              "    <tr>\n",
              "      <th>2019-01-02</th>\n",
              "      <td>Generic</td>\n",
              "      <td>15741</td>\n",
              "      <td>778103</td>\n",
              "      <td>14037.76</td>\n",
              "      <td>131.54</td>\n",
              "      <td>53946.99</td>\n",
              "      <td>587.0</td>\n",
              "      <td>38713.52</td>\n",
              "      <td>Wednesday</td>\n",
              "      <td>2019</td>\n",
              "      <td>January</td>\n",
              "      <td>106.718565</td>\n",
              "      <td>0.020230</td>\n",
              "      <td>0.891796</td>\n",
              "      <td>3.842991</td>\n",
              "      <td>Q1</td>\n",
              "    </tr>\n",
              "    <tr>\n",
              "      <th>2019-01-03</th>\n",
              "      <td>Generic</td>\n",
              "      <td>6959</td>\n",
              "      <td>338800</td>\n",
              "      <td>4261.37</td>\n",
              "      <td>41.27</td>\n",
              "      <td>14742.38</td>\n",
              "      <td>299.0</td>\n",
              "      <td>19999.74</td>\n",
              "      <td>Thursday</td>\n",
              "      <td>2019</td>\n",
              "      <td>January</td>\n",
              "      <td>103.255876</td>\n",
              "      <td>0.020540</td>\n",
              "      <td>0.612354</td>\n",
              "      <td>3.459540</td>\n",
              "      <td>Q1</td>\n",
              "    </tr>\n",
              "    <tr>\n",
              "      <th>2019-01-04</th>\n",
              "      <td>Generic</td>\n",
              "      <td>8000</td>\n",
              "      <td>425764</td>\n",
              "      <td>5367.59</td>\n",
              "      <td>47.45</td>\n",
              "      <td>20522.77</td>\n",
              "      <td>360.0</td>\n",
              "      <td>22256.93</td>\n",
              "      <td>Friday</td>\n",
              "      <td>2019</td>\n",
              "      <td>January</td>\n",
              "      <td>113.120969</td>\n",
              "      <td>0.018790</td>\n",
              "      <td>0.670949</td>\n",
              "      <td>3.823461</td>\n",
              "      <td>Q1</td>\n",
              "    </tr>\n",
              "    <tr>\n",
              "      <th>2019-01-05</th>\n",
              "      <td>Generic</td>\n",
              "      <td>11422</td>\n",
              "      <td>697889</td>\n",
              "      <td>8417.39</td>\n",
              "      <td>70.62</td>\n",
              "      <td>24958.24</td>\n",
              "      <td>503.0</td>\n",
              "      <td>40467.47</td>\n",
              "      <td>Saturday</td>\n",
              "      <td>2019</td>\n",
              "      <td>January</td>\n",
              "      <td>119.192722</td>\n",
              "      <td>0.016366</td>\n",
              "      <td>0.736945</td>\n",
              "      <td>2.965081</td>\n",
              "      <td>Q1</td>\n",
              "    </tr>\n",
              "  </tbody>\n",
              "</table>\n",
              "</div>"
            ],
            "text/plain": [
              "           campaign_label  Clicks   Impr.  ...       CPC       AOV  Quarter2\n",
              "Day                                        ...                              \n",
              "2019-01-01        Generic   17705  841317  ...  0.769383  3.465643        Q1\n",
              "2019-01-02        Generic   15741  778103  ...  0.891796  3.842991        Q1\n",
              "2019-01-03        Generic    6959  338800  ...  0.612354  3.459540        Q1\n",
              "2019-01-04        Generic    8000  425764  ...  0.670949  3.823461        Q1\n",
              "2019-01-05        Generic   11422  697889  ...  0.736945  2.965081        Q1\n",
              "\n",
              "[5 rows x 16 columns]"
            ]
          },
          "metadata": {},
          "execution_count": 5
        }
      ]
    },
    {
      "cell_type": "code",
      "metadata": {
        "id": "GDXcpJ1J4yhG"
      },
      "source": [
        "dummies = pd.get_dummies(data)\n"
      ],
      "execution_count": null,
      "outputs": []
    },
    {
      "cell_type": "code",
      "metadata": {
        "colab": {
          "base_uri": "https://localhost:8080/"
        },
        "id": "h0C6ZbQDuebF",
        "outputId": "82108d64-b661-4a7c-bdf4-d1d9d8eced45"
      },
      "source": [
        "dummies.duplicated().sum()"
      ],
      "execution_count": null,
      "outputs": [
        {
          "output_type": "execute_result",
          "data": {
            "text/plain": [
              "0"
            ]
          },
          "metadata": {},
          "execution_count": 7
        }
      ]
    },
    {
      "cell_type": "code",
      "metadata": {
        "id": "gRWSxkak_08b"
      },
      "source": [
        "from sklearn.metrics import precision_recall_curve\n",
        "from sklearn.metrics import f1_score\n",
        "from sklearn.metrics import auc\n",
        "from sklearn.linear_model import LogisticRegression\n",
        "import matplotlib.pyplot as plt\n",
        "from sklearn.metrics import classification_report,confusion_matrix,roc_curve,roc_auc_score\n",
        "from sklearn.metrics import accuracy_score,log_loss\n",
        "from matplotlib import pyplot\n",
        "from sklearn import preprocessing\n",
        "from sklearn import utils\n",
        "from sklearn.model_selection import train_test_split\n",
        "from sklearn.metrics import mean_absolute_error\n",
        "from sklearn.ensemble import RandomForestRegressor\n",
        "from sklearn.ensemble import RandomForestClassifier\n",
        "from sklearn.metrics import r2_score\n",
        "from sklearn.metrics import mean_squared_error\n",
        "from sklearn.metrics import mean_absolute_percentage_error\n",
        "from sklearn.pipeline import Pipeline\n",
        "from sklearn.preprocessing import PowerTransformer\n",
        "from sklearn.preprocessing import StandardScaler\n",
        "from sklearn.feature_selection import SelectKBest, chi2\n",
        "import pandas as pd\n",
        "import numpy as np\n",
        "import os\n",
        "import pickle\n",
        "import matplotlib.pyplot as plt\n",
        "import seaborn as sns\n",
        "from sklearn import __version__ as sklearn_version\n",
        "from sklearn.decomposition import PCA\n",
        "from sklearn.preprocessing import scale\n",
        "from sklearn.model_selection import train_test_split, cross_validate, GridSearchCV, learning_curve\n",
        "from sklearn.preprocessing import StandardScaler, MinMaxScaler\n",
        "from sklearn.dummy import DummyRegressor\n",
        "from sklearn.linear_model import LinearRegression\n",
        "from sklearn.ensemble import RandomForestRegressor\n",
        "from sklearn.metrics import r2_score, mean_squared_error, mean_absolute_error\n",
        "from sklearn.pipeline import make_pipeline\n",
        "from sklearn.impute import SimpleImputer\n",
        "from sklearn.feature_selection import SelectKBest, f_regression\n",
        "import datetime"
      ],
      "execution_count": null,
      "outputs": []
    },
    {
      "cell_type": "markdown",
      "metadata": {
        "id": "YevJmYmmJ3Va"
      },
      "source": [
        "# Create Train/Test Split"
      ]
    },
    {
      "cell_type": "code",
      "metadata": {
        "colab": {
          "base_uri": "https://localhost:8080/"
        },
        "id": "CNQNt82FZ-re",
        "outputId": "3b186870-d3fc-44bf-b72e-43bfb0b22570"
      },
      "source": [
        "X_train, X_test, y_train, y_test = train_test_split(dummies.drop(columns=['Conversions']), \n",
        "                                                    dummies['Conversions'], test_size=0.3, \n",
        "                                                    random_state=47)\n",
        "X_train.shape, X_test.shape"
      ],
      "execution_count": null,
      "outputs": [
        {
          "output_type": "execute_result",
          "data": {
            "text/plain": [
              "((1026, 36), (440, 36))"
            ]
          },
          "metadata": {},
          "execution_count": 9
        }
      ]
    },
    {
      "cell_type": "markdown",
      "metadata": {
        "id": "4dqeg1jyJr3B"
      },
      "source": [
        "# Linear Regression"
      ]
    },
    {
      "cell_type": "code",
      "metadata": {
        "colab": {
          "base_uri": "https://localhost:8080/"
        },
        "id": "fHKZMm7YK3oI",
        "outputId": "1993e7a8-42c6-4512-bcc6-4e598af1b524"
      },
      "source": [
        "pipe = make_pipeline(\n",
        "    SimpleImputer(strategy='median'), \n",
        "    StandardScaler(),\n",
        "    SelectKBest(f_regression),\n",
        "    LinearRegression()\n",
        ")\n",
        "\n",
        "pipe.fit(X_train, y_train)"
      ],
      "execution_count": null,
      "outputs": [
        {
          "output_type": "execute_result",
          "data": {
            "text/plain": [
              "Pipeline(steps=[('simpleimputer', SimpleImputer(strategy='median')),\n",
              "                ('standardscaler', StandardScaler()),\n",
              "                ('selectkbest',\n",
              "                 SelectKBest(score_func=<function f_regression at 0x7fb3c0df6320>)),\n",
              "                ('linearregression', LinearRegression())])"
            ]
          },
          "metadata": {},
          "execution_count": 31
        }
      ]
    },
    {
      "cell_type": "code",
      "metadata": {
        "id": "QpVIUZy1K967"
      },
      "source": [
        "y_tr_pred = pipe.predict(X_train)\n",
        "y_te_pred = pipe.predict(X_test)"
      ],
      "execution_count": null,
      "outputs": []
    },
    {
      "cell_type": "code",
      "metadata": {
        "colab": {
          "base_uri": "https://localhost:8080/"
        },
        "id": "sv1gcy3NKvyS",
        "outputId": "dd41bc62-fa41-40b7-bb1e-a9fd23a66fe0"
      },
      "source": [
        "r2_score(y_train, y_tr_pred), r2_score(y_test, y_te_pred)"
      ],
      "execution_count": null,
      "outputs": [
        {
          "output_type": "execute_result",
          "data": {
            "text/plain": [
              "(0.9785415758152356, 0.9704151876826136)"
            ]
          },
          "metadata": {},
          "execution_count": 33
        }
      ]
    },
    {
      "cell_type": "code",
      "metadata": {
        "colab": {
          "base_uri": "https://localhost:8080/"
        },
        "id": "EiPYa8CCKxsy",
        "outputId": "4d786c90-9237-4273-d33c-b7c06e406c9c"
      },
      "source": [
        "mean_absolute_error(y_train, y_tr_pred), mean_absolute_error(y_test, y_te_pred)"
      ],
      "execution_count": null,
      "outputs": [
        {
          "output_type": "execute_result",
          "data": {
            "text/plain": [
              "(6.984110974747146, 6.536022403317272)"
            ]
          },
          "metadata": {},
          "execution_count": 34
        }
      ]
    },
    {
      "cell_type": "code",
      "metadata": {
        "colab": {
          "base_uri": "https://localhost:8080/"
        },
        "id": "c4SD0_g8KzSz",
        "outputId": "650139e5-a138-4963-f1b3-275b30df492f"
      },
      "source": [
        "mean_squared_error(y_train, y_tr_pred), mean_squared_error(y_test, y_te_pred)"
      ],
      "execution_count": null,
      "outputs": [
        {
          "output_type": "execute_result",
          "data": {
            "text/plain": [
              "(102.60619455372925, 98.62160860463197)"
            ]
          },
          "metadata": {},
          "execution_count": 35
        }
      ]
    },
    {
      "cell_type": "code",
      "metadata": {
        "id": "GmhB8kYkLs60"
      },
      "source": [
        "k = [k+1 for k in range(len(X_train.columns))]\n",
        "grid_params = {'selectkbest__k': k}"
      ],
      "execution_count": null,
      "outputs": []
    },
    {
      "cell_type": "code",
      "metadata": {
        "id": "zDfnPmh_Ltut"
      },
      "source": [
        "lr_grid_cv = GridSearchCV(pipe, param_grid=grid_params, cv=5, n_jobs=-1)"
      ],
      "execution_count": null,
      "outputs": []
    },
    {
      "cell_type": "code",
      "metadata": {
        "colab": {
          "base_uri": "https://localhost:8080/"
        },
        "id": "YsJkTtmlLxPM",
        "outputId": "3cf2dd2e-746b-43b6-f692-229475b8b387"
      },
      "source": [
        "lr_grid_cv.fit(X_train, y_train)"
      ],
      "execution_count": null,
      "outputs": [
        {
          "output_type": "execute_result",
          "data": {
            "text/plain": [
              "GridSearchCV(cv=5,\n",
              "             estimator=Pipeline(steps=[('simpleimputer',\n",
              "                                        SimpleImputer(strategy='median')),\n",
              "                                       ('standardscaler', StandardScaler()),\n",
              "                                       ('selectkbest',\n",
              "                                        SelectKBest(score_func=<function f_regression at 0x7fb3c0df6320>)),\n",
              "                                       ('linearregression',\n",
              "                                        LinearRegression())]),\n",
              "             n_jobs=-1,\n",
              "             param_grid={'selectkbest__k': [1, 2, 3, 4, 5, 6, 7, 8, 9, 10, 11,\n",
              "                                            12, 13, 14, 15, 16, 17, 18, 19, 20,\n",
              "                                            21, 22, 23, 24, 25, 26, 27, 28, 29,\n",
              "                                            30, ...]})"
            ]
          },
          "metadata": {},
          "execution_count": 38
        }
      ]
    },
    {
      "cell_type": "code",
      "metadata": {
        "id": "qc4elZlTL09r"
      },
      "source": [
        "score_mean = lr_grid_cv.cv_results_['mean_test_score']\n",
        "score_std = lr_grid_cv.cv_results_['std_test_score']\n",
        "cv_k = [k for k in lr_grid_cv.cv_results_['param_selectkbest__k']]"
      ],
      "execution_count": null,
      "outputs": []
    },
    {
      "cell_type": "code",
      "metadata": {
        "colab": {
          "base_uri": "https://localhost:8080/"
        },
        "id": "H8i8goRgL3Pe",
        "outputId": "9ae48dd5-34af-49c7-c323-74df4bcaf974"
      },
      "source": [
        "lr_grid_cv.best_params_"
      ],
      "execution_count": null,
      "outputs": [
        {
          "output_type": "execute_result",
          "data": {
            "text/plain": [
              "{'selectkbest__k': 7}"
            ]
          },
          "metadata": {},
          "execution_count": 40
        }
      ]
    },
    {
      "cell_type": "code",
      "metadata": {
        "colab": {
          "base_uri": "https://localhost:8080/",
          "height": 350
        },
        "id": "ASfXUmuFL6Yz",
        "outputId": "34ce66a5-b0d7-4e1b-8971-23b8af1e6013"
      },
      "source": [
        "best_k = lr_grid_cv.best_params_['selectkbest__k']\n",
        "plt.subplots(figsize=(10, 5))\n",
        "plt.errorbar(cv_k, score_mean, yerr=score_std)\n",
        "plt.axvline(x=best_k, c='r', ls='--', alpha=.5)\n",
        "plt.xlabel('k')\n",
        "plt.ylabel('CV score (r-squared)')\n",
        "plt.title('Pipeline mean CV score (error bars +/- 1sd)');"
      ],
      "execution_count": null,
      "outputs": [
        {
          "output_type": "display_data",
          "data": {
            "image/png": "[encoded data removed]",
            "text/plain": [
              "<Figure size 720x360 with 1 Axes>"
            ]
          },
          "metadata": {
            "needs_background": "light"
          }
        }
      ]
    },
    {
      "cell_type": "code",
      "metadata": {
        "id": "eOm9s0M9MMPL"
      },
      "source": [
        "lr_neg_mae = cross_validate(lr_grid_cv.best_estimator_, X_train, y_train, \n",
        "                            scoring='neg_mean_absolute_error', cv=5, n_jobs=-1)"
      ],
      "execution_count": null,
      "outputs": []
    },
    {
      "cell_type": "code",
      "metadata": {
        "colab": {
          "base_uri": "https://localhost:8080/"
        },
        "id": "4GHcM3u3MOXv",
        "outputId": "badae60a-eb2f-4b8c-c65a-c4f45e490b33"
      },
      "source": [
        "lr_mae_mean = np.mean(-1 * lr_neg_mae['test_score'])\n",
        "lr_mae_std = np.std(-1 * lr_neg_mae['test_score'])\n",
        "lr_mae_mean, lr_mae_std"
      ],
      "execution_count": null,
      "outputs": [
        {
          "output_type": "execute_result",
          "data": {
            "text/plain": [
              "(7.106513852847362, 0.2775372757571184)"
            ]
          },
          "metadata": {},
          "execution_count": 43
        }
      ]
    },
    {
      "cell_type": "code",
      "metadata": {
        "colab": {
          "base_uri": "https://localhost:8080/"
        },
        "id": "XNNbjFmFMQbM",
        "outputId": "b81ecca0-c305-4e77-d637-abd600ef0fe6"
      },
      "source": [
        "mean_absolute_error(y_test, lr_grid_cv.best_estimator_.predict(X_test))"
      ],
      "execution_count": null,
      "outputs": [
        {
          "output_type": "execute_result",
          "data": {
            "text/plain": [
              "6.531569381101849"
            ]
          },
          "metadata": {},
          "execution_count": 44
        }
      ]
    },
    {
      "cell_type": "markdown",
      "metadata": {
        "id": "JpQV7l4PNjry"
      },
      "source": [
        "# Hyperparameter Tuning - Random Forest - GridSearch"
      ]
    },
    {
      "cell_type": "code",
      "metadata": {
        "id": "ljRnJ-FEfZx-"
      },
      "source": [
        "RF_pipe = make_pipeline(\n",
        "    SimpleImputer(strategy='median'),\n",
        "    StandardScaler(),\n",
        "    RandomForestRegressor(random_state=47)\n",
        ")"
      ],
      "execution_count": null,
      "outputs": []
    },
    {
      "cell_type": "code",
      "metadata": {
        "colab": {
          "base_uri": "https://localhost:8080/"
        },
        "id": "rCoCCWpwiodC",
        "outputId": "b8b19d2e-6b91-4ddc-cc63-aa495022895c"
      },
      "source": [
        "RF_pipe.get_params().keys()"
      ],
      "execution_count": null,
      "outputs": [
        {
          "output_type": "execute_result",
          "data": {
            "text/plain": [
              "dict_keys(['memory', 'steps', 'verbose', 'simpleimputer', 'standardscaler', 'randomforestregressor', 'simpleimputer__add_indicator', 'simpleimputer__copy', 'simpleimputer__fill_value', 'simpleimputer__missing_values', 'simpleimputer__strategy', 'simpleimputer__verbose', 'standardscaler__copy', 'standardscaler__with_mean', 'standardscaler__with_std', 'randomforestregressor__bootstrap', 'randomforestregressor__ccp_alpha', 'randomforestregressor__criterion', 'randomforestregressor__max_depth', 'randomforestregressor__max_features', 'randomforestregressor__max_leaf_nodes', 'randomforestregressor__max_samples', 'randomforestregressor__min_impurity_decrease', 'randomforestregressor__min_samples_leaf', 'randomforestregressor__min_samples_split', 'randomforestregressor__min_weight_fraction_leaf', 'randomforestregressor__n_estimators', 'randomforestregressor__n_jobs', 'randomforestregressor__oob_score', 'randomforestregressor__random_state', 'randomforestregressor__verbose', 'randomforestregressor__warm_start'])"
            ]
          },
          "metadata": {},
          "execution_count": 11
        }
      ]
    },
    {
      "cell_type": "code",
      "metadata": {
        "id": "awS2eul_fZ3k"
      },
      "source": [
        "rf_default_cv_results = cross_validate(RF_pipe, X_train, y_train, cv=5)"
      ],
      "execution_count": null,
      "outputs": []
    },
    {
      "cell_type": "code",
      "metadata": {
        "colab": {
          "base_uri": "https://localhost:8080/"
        },
        "id": "HkJELvFSfZ8D",
        "outputId": "d032771d-89bd-486b-ee88-43cd73589c18"
      },
      "source": [
        "rf_cv_scores = rf_default_cv_results['test_score']\n",
        "rf_cv_scores"
      ],
      "execution_count": null,
      "outputs": [
        {
          "output_type": "execute_result",
          "data": {
            "text/plain": [
              "array([0.96216427, 0.96141693, 0.97376778, 0.98050496, 0.96626306])"
            ]
          },
          "metadata": {},
          "execution_count": 13
        }
      ]
    },
    {
      "cell_type": "code",
      "metadata": {
        "colab": {
          "base_uri": "https://localhost:8080/"
        },
        "id": "6vvZzVW8fZ9O",
        "outputId": "4ec026aa-934d-4f4f-b543-2d54332b726b"
      },
      "source": [
        "np.mean(rf_cv_scores), np.std(rf_cv_scores)"
      ],
      "execution_count": null,
      "outputs": [
        {
          "output_type": "execute_result",
          "data": {
            "text/plain": [
              "(0.9688234018306809, 0.00730288813361085)"
            ]
          },
          "metadata": {},
          "execution_count": 14
        }
      ]
    },
    {
      "cell_type": "code",
      "metadata": {
        "id": "yh-0k7WsfaBA"
      },
      "source": [
        "n_est = [int(n) for n in np.logspace(start=1, stop=3, num=20)]\n",
        "grid_params = {\n",
        "        'standardscaler': [StandardScaler(), PowerTransformer(),None],\n",
        "        'simpleimputer__strategy': ['mean', 'median'],\n",
        "        'randomforestregressor__n_estimators': n_est\n",
        "}"
      ],
      "execution_count": null,
      "outputs": []
    },
    {
      "cell_type": "code",
      "metadata": {
        "id": "yfal-E5-faDN"
      },
      "source": [
        "rf_grid_cv = GridSearchCV(RF_pipe, param_grid=grid_params, cv=5, n_jobs=-1)"
      ],
      "execution_count": null,
      "outputs": []
    },
    {
      "cell_type": "code",
      "metadata": {
        "colab": {
          "base_uri": "https://localhost:8080/"
        },
        "id": "0MtHNSWGfaE_",
        "outputId": "d21befc1-5296-4842-8fd5-3845a749e577"
      },
      "source": [
        "rf_grid_cv.fit(X_train, y_train)"
      ],
      "execution_count": null,
      "outputs": [
        {
          "output_type": "execute_result",
          "data": {
            "text/plain": [
              "GridSearchCV(cv=5,\n",
              "             estimator=Pipeline(steps=[('simpleimputer',\n",
              "                                        SimpleImputer(strategy='median')),\n",
              "                                       ('standardscaler', StandardScaler()),\n",
              "                                       ('randomforestregressor',\n",
              "                                        RandomForestRegressor(random_state=47))]),\n",
              "             n_jobs=-1,\n",
              "             param_grid={'randomforestregressor__n_estimators': [10, 12, 16, 20,\n",
              "                                                                 26, 33, 42, 54,\n",
              "                                                                 69, 88, 112,\n",
              "                                                                 143, 183, 233,\n",
              "                                                                 297, 379, 483,\n",
              "                                                                 615, 784,\n",
              "                                                                 1000],\n",
              "                         'simpleimputer__strategy': ['mean', 'median'],\n",
              "                         'standardscaler': [StandardScaler(),\n",
              "                                            PowerTransformer(), None]})"
            ]
          },
          "metadata": {},
          "execution_count": 17
        }
      ]
    },
    {
      "cell_type": "code",
      "metadata": {
        "colab": {
          "base_uri": "https://localhost:8080/"
        },
        "id": "1lsvleAKfaHY",
        "outputId": "59d8b814-d12e-4366-c807-1164dc88073c"
      },
      "source": [
        "rf_grid_cv.best_params_"
      ],
      "execution_count": null,
      "outputs": [
        {
          "output_type": "execute_result",
          "data": {
            "text/plain": [
              "{'randomforestregressor__n_estimators': 483,\n",
              " 'simpleimputer__strategy': 'mean',\n",
              " 'standardscaler': StandardScaler()}"
            ]
          },
          "metadata": {},
          "execution_count": 18
        }
      ]
    },
    {
      "cell_type": "code",
      "metadata": {
        "colab": {
          "base_uri": "https://localhost:8080/"
        },
        "id": "hiSMl1AEg2WE",
        "outputId": "8d1a0a2a-0643-4ac9-c1e8-46b3670fb008"
      },
      "source": [
        "rf_best_cv_results = cross_validate(rf_grid_cv.best_estimator_, X_train, y_train, cv=5)\n",
        "rf_best_scores = rf_best_cv_results['test_score']\n",
        "rf_best_scores"
      ],
      "execution_count": null,
      "outputs": [
        {
          "output_type": "execute_result",
          "data": {
            "text/plain": [
              "array([0.96808435, 0.96956268, 0.97314489, 0.9824023 , 0.96322863])"
            ]
          },
          "metadata": {},
          "execution_count": 19
        }
      ]
    },
    {
      "cell_type": "code",
      "metadata": {
        "colab": {
          "base_uri": "https://localhost:8080/"
        },
        "id": "wreJSCXHg2ds",
        "outputId": "c27b4eb9-b72b-4a47-997e-fb808f36d8bb"
      },
      "source": [
        "np.mean(rf_best_scores), np.std(rf_best_scores)"
      ],
      "execution_count": null,
      "outputs": [
        {
          "output_type": "execute_result",
          "data": {
            "text/plain": [
              "(0.9712845715192577, 0.006405767221564522)"
            ]
          },
          "metadata": {},
          "execution_count": 20
        }
      ]
    },
    {
      "cell_type": "code",
      "metadata": {
        "colab": {
          "base_uri": "https://localhost:8080/",
          "height": 470
        },
        "id": "vQnyEHe6g2ib",
        "outputId": "f5da205d-e235-477a-996b-0358b992645c"
      },
      "source": [
        "plt.subplots(figsize=(10, 5))\n",
        "imps = rf_grid_cv.best_estimator_.named_steps.randomforestregressor.feature_importances_\n",
        "rf_feat_imps = pd.Series(imps, index=X_train.columns).sort_values(ascending=False)\n",
        "rf_feat_imps.nlargest(20).plot(kind='bar')\n",
        "plt.xlabel('features')\n",
        "plt.ylabel('importance')\n",
        "plt.title('Best random forest regressor feature importances');"
      ],
      "execution_count": null,
      "outputs": [
        {
          "output_type": "display_data",
          "data": {
            "image/png": "[encoded data removed]",
            "text/plain": [
              "<Figure size 720x360 with 1 Axes>"
            ]
          },
          "metadata": {
            "needs_background": "light"
          }
        }
      ]
    },
    {
      "cell_type": "code",
      "metadata": {
        "id": "i5ACZJPfs80W"
      },
      "source": [
        "fractions = [.2, .25, .3, .35, .4, .45, .5, .6, .75, .8, 1.0]\n",
        "train_size, train_scores, test_scores = learning_curve(RF_pipe, X_train, y_train, train_sizes=fractions)\n",
        "train_scores_mean = np.mean(train_scores, axis=1)\n",
        "train_scores_std = np.std(train_scores, axis=1)\n",
        "test_scores_mean = np.mean(test_scores, axis=1)\n",
        "test_scores_std = np.std(test_scores, axis=1)"
      ],
      "execution_count": null,
      "outputs": []
    },
    {
      "cell_type": "code",
      "metadata": {
        "colab": {
          "base_uri": "https://localhost:8080/",
          "height": 350
        },
        "id": "QJRbHOPs6UOm",
        "outputId": "b4727375-8469-433b-85d1-697c7354f745"
      },
      "source": [
        "plt.subplots(figsize=(10, 5))\n",
        "plt.errorbar(train_size, test_scores_mean, yerr=test_scores_std)\n",
        "plt.xlabel('Training set size')\n",
        "plt.ylabel('CV scores')\n",
        "plt.title('Cross-validation score as training set size increases');"
      ],
      "execution_count": null,
      "outputs": [
        {
          "output_type": "display_data",
          "data": {
            "image/png": "[encoded data removed]",
            "text/plain": [
              "<Figure size 720x360 with 1 Axes>"
            ]
          },
          "metadata": {
            "needs_background": "light"
          }
        }
      ]
    },
    {
      "cell_type": "markdown",
      "metadata": {
        "id": "4U4dvwUS8Z91"
      },
      "source": [
        "# Random Search"
      ]
    },
    {
      "cell_type": "code",
      "metadata": {
        "colab": {
          "base_uri": "https://localhost:8080/"
        },
        "id": "YUWutPHv8c5i",
        "outputId": "34e8912c-ecf5-4101-e5fc-9c22e5f63802"
      },
      "source": [
        "from sklearn.model_selection import RandomizedSearchCV\n",
        "\n",
        "# Number of trees in random forest\n",
        "n_estimators = [int(n) for n in np.logspace(start=1, stop=3, num=20)]\n",
        "# Number of features to consider at every split\n",
        "max_features = ['auto', 'sqrt']\n",
        "# Maximum number of levels in tree\n",
        "max_depth = [int(x) for x in np.linspace(10, 110, num = 11)]\n",
        "max_depth.append(None)\n",
        "# Minimum number of samples required to split a node\n",
        "min_samples_split = [2, 5, 10]\n",
        "# Minimum number of samples required at each leaf node\n",
        "min_samples_leaf = [1, 2, 4]\n",
        "# Method of selecting samples for training each tree\n",
        "bootstrap = [True, False]\n",
        "# Create the random grid\n",
        "random_grid ={\n",
        "        'standardscaler': [StandardScaler(), PowerTransformer(),None],\n",
        "        'simpleimputer__strategy': ['mean', 'median'],\n",
        "        'randomforestregressor__n_estimators': n_est,\n",
        "        'randomforestregressor__max_features': max_features,\n",
        "        'randomforestregressor__max_depth':max_depth,\n",
        "        'randomforestregressor__min_samples_split':min_samples_split,\n",
        "        'randomforestregressor__min_samples_leaf':min_samples_leaf,\n",
        "        'randomforestregressor__bootstrap':bootstrap}\n",
        "print(random_grid)  "
      ],
      "execution_count": null,
      "outputs": [
        {
          "output_type": "stream",
          "name": "stdout",
          "text": [
            "{'standardscaler': [StandardScaler(), PowerTransformer(), None], 'simpleimputer__strategy': ['mean', 'median'], 'randomforestregressor__n_estimators': [10, 12, 16, 20, 26, 33, 42, 54, 69, 88, 112, 143, 183, 233, 297, 379, 483, 615, 784, 1000], 'randomforestregressor__max_features': ['auto', 'sqrt'], 'randomforestregressor__max_depth': [10, 20, 30, 40, 50, 60, 70, 80, 90, 100, 110, None], 'randomforestregressor__min_samples_split': [2, 5, 10], 'randomforestregressor__min_samples_leaf': [1, 2, 4], 'randomforestregressor__bootstrap': [True, False]}\n"
          ]
        }
      ]
    },
    {
      "cell_type": "code",
      "metadata": {
        "colab": {
          "base_uri": "https://localhost:8080/"
        },
        "id": "2eZR3Ld48pn9",
        "outputId": "ff5addf0-e649-47ee-d96b-cfaa2c1ef147"
      },
      "source": [
        "\n",
        "# Random search of parameters, using 3 fold cross validation, \n",
        "# search across 100 different combinations, and use all available cores\n",
        "rf_random = RandomizedSearchCV(estimator = RF_pipe, param_distributions = random_grid, n_iter = 100, cv = 5, verbose=2, random_state=42, n_jobs = -1)\n",
        "# Fit the random search model\n",
        "rf_random.fit(X_train, y_train)"
      ],
      "execution_count": null,
      "outputs": [
        {
          "output_type": "stream",
          "name": "stdout",
          "text": [
            "Fitting 5 folds for each of 100 candidates, totalling 500 fits\n"
          ]
        },
        {
          "output_type": "execute_result",
          "data": {
            "text/plain": [
              "RandomizedSearchCV(cv=5,\n",
              "                   estimator=Pipeline(steps=[('simpleimputer',\n",
              "                                              SimpleImputer(strategy='median')),\n",
              "                                             ('standardscaler',\n",
              "                                              StandardScaler()),\n",
              "                                             ('randomforestregressor',\n",
              "                                              RandomForestRegressor(random_state=47))]),\n",
              "                   n_iter=100, n_jobs=-1,\n",
              "                   param_distributions={'randomforestregressor__bootstrap': [True,\n",
              "                                                                             False],\n",
              "                                        'randomforestregressor__max_depth': [10,\n",
              "                                                                             20,\n",
              "                                                                             30,\n",
              "                                                                             40,\n",
              "                                                                             50,\n",
              "                                                                             60,\n",
              "                                                                             70...\n",
              "                                                                                'sqrt'],\n",
              "                                        'randomforestregressor__min_samples_leaf': [1,\n",
              "                                                                                    2,\n",
              "                                                                                    4],\n",
              "                                        'randomforestregressor__min_samples_split': [2,\n",
              "                                                                                     5,\n",
              "                                                                                     10],\n",
              "                                        'randomforestregressor__n_estimators': [10,\n",
              "                                                                                12,\n",
              "                                                                                16,\n",
              "                                                                                20,\n",
              "                                                                                26,\n",
              "                                                                                33,\n",
              "                                                                                42,\n",
              "                                                                                54,\n",
              "                                                                                69,\n",
              "                                                                                88,\n",
              "                                                                                112,\n",
              "                                                                                143,\n",
              "                                                                                183,\n",
              "                                                                                233,\n",
              "                                                                                297,\n",
              "                                                                                379,\n",
              "                                                                                483,\n",
              "                                                                                615,\n",
              "                                                                                784,\n",
              "                                                                                1000],\n",
              "                                        'simpleimputer__strategy': ['mean',\n",
              "                                                                    'median'],\n",
              "                                        'standardscaler': [StandardScaler(),\n",
              "                                                           PowerTransformer(),\n",
              "                                                           None]},\n",
              "                   random_state=42, verbose=2)"
            ]
          },
          "metadata": {},
          "execution_count": 25
        }
      ]
    },
    {
      "cell_type": "code",
      "metadata": {
        "colab": {
          "base_uri": "https://localhost:8080/"
        },
        "id": "hVKBQO1V85O-",
        "outputId": "1c904147-7eb0-49ff-fb6f-138e11e66607"
      },
      "source": [
        "rf_random.best_params_"
      ],
      "execution_count": null,
      "outputs": [
        {
          "output_type": "execute_result",
          "data": {
            "text/plain": [
              "{'randomforestregressor__bootstrap': True,\n",
              " 'randomforestregressor__max_depth': 20,\n",
              " 'randomforestregressor__max_features': 'auto',\n",
              " 'randomforestregressor__min_samples_leaf': 2,\n",
              " 'randomforestregressor__min_samples_split': 2,\n",
              " 'randomforestregressor__n_estimators': 379,\n",
              " 'simpleimputer__strategy': 'mean',\n",
              " 'standardscaler': None}"
            ]
          },
          "metadata": {},
          "execution_count": 26
        }
      ]
    },
    {
      "cell_type": "markdown",
      "metadata": {
        "id": "mP-OxjsM22RK"
      },
      "source": [
        "# Modelling data to get the best Model"
      ]
    },
    {
      "cell_type": "code",
      "metadata": {
        "id": "4ZikAk2D88e3"
      },
      "source": [
        "def evaluate(model, test_features, test_labels):\n",
        "    predictions = model.predict(test_features)\n",
        "    errors = abs(predictions - test_labels)\n",
        "    mape = 100 * np.mean(errors / test_labels)\n",
        "    accuracy = 100 - mape\n",
        "    mea = mean_absolute_error(test_labels,predictions)\n",
        "    print('Average Error: {:0.4f} degrees.'.format(np.mean(errors)))\n",
        "    print('Accuracy = {:0.2f}%.'.format(accuracy))\n",
        "    print('Mean Absolute Error = {:0.2f}%.'.format(mea))\n",
        "    \n",
        "    return accuracy"
      ],
      "execution_count": null,
      "outputs": []
    },
    {
      "cell_type": "code",
      "metadata": {
        "colab": {
          "base_uri": "https://localhost:8080/"
        },
        "id": "p7WRYFXF89Fy",
        "outputId": "d4051084-181a-4948-da98-e4249155cbcd"
      },
      "source": [
        "base_model = RandomForestRegressor(n_estimators = 10, random_state = 42)\n",
        "base_model.fit(X_train, y_train)\n",
        "print(\"base model\")\n",
        "base_accuracy = evaluate(base_model, X_test, y_test)\n",
        "\n",
        "best_random = rf_random.best_estimator_\n",
        "print(\"random model\")\n",
        "random_accuracy = evaluate(best_random,X_test, y_test)\n",
        "print(\"Grid model\")\n",
        "grid_accuracy = evaluate(rf_grid_cv.best_estimator_,X_test, y_test)"
      ],
      "execution_count": null,
      "outputs": [
        {
          "output_type": "stream",
          "name": "stdout",
          "text": [
            "base model\n",
            "Average Error: 5.9689 degrees.\n",
            "Accuracy = 78.60%.\n",
            "Mean Absolute Error = 5.97%.\n",
            "random model\n",
            "Average Error: 5.8876 degrees.\n",
            "Accuracy = 79.76%.\n",
            "Mean Absolute Error = 5.89%.\n",
            "Grid model\n",
            "Average Error: 5.8405 degrees.\n",
            "Accuracy = 80.78%.\n",
            "Mean Absolute Error = 5.84%.\n"
          ]
        }
      ]
    },
    {
      "cell_type": "markdown",
      "metadata": {
        "id": "XENF2adn6U7f"
      },
      "source": [
        "Grid search model is most effective model with the lowest Mean absolute Error"
      ]
    }
  ]
}